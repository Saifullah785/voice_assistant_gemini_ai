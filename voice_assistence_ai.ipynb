{
  "nbformat": 4,
  "nbformat_minor": 0,
  "metadata": {
    "colab": {
      "provenance": [],
      "authorship_tag": "ABX9TyOM99WDRsqsaaBNhqM1d2PV",
      "include_colab_link": true
    },
    "kernelspec": {
      "name": "python3",
      "display_name": "Python 3"
    },
    "language_info": {
      "name": "python"
    }
  },
  "cells": [
    {
      "cell_type": "markdown",
      "metadata": {
        "id": "view-in-github",
        "colab_type": "text"
      },
      "source": [
        "<a href=\"https://colab.research.google.com/github/Saifullah785/voice_assistant_gemini_ai/blob/main/voice_assistence_ai.ipynb\" target=\"_parent\"><img src=\"https://colab.research.google.com/assets/colab-badge.svg\" alt=\"Open In Colab\"/></a>"
      ]
    },
    {
      "cell_type": "code",
      "source": [
        "# !pip install google_generativeai"
      ],
      "metadata": {
        "id": "b6f2nlGmZ29W"
      },
      "execution_count": null,
      "outputs": []
    },
    {
      "cell_type": "code",
      "source": [
        "import google.generativeai as genai\n",
        "import os\n",
        "\n",
        "# set your api key\n",
        "os.environ['GOOGLE_API_KEY'] = ''\n",
        "genai.configure(api_key=os.environ['GOOGLE_API_KEY'])"
      ],
      "metadata": {
        "id": "xOMOek6vaO8e"
      },
      "execution_count": null,
      "outputs": []
    },
    {
      "cell_type": "code",
      "source": [
        "model = genai.GenerativeModel('models/gemini-1.5-pro')"
      ],
      "metadata": {
        "id": "UrPjl7M9au5-"
      },
      "execution_count": null,
      "outputs": []
    },
    {
      "cell_type": "code",
      "source": [
        "# Voice assistance function with enhanced topic management\n",
        "def voice_assistance(input_user):\n",
        "    global conversation_history\n",
        "\n",
        "    # Improved prompt with focus on concise and direct answers\n",
        "    prompt = f\"\"\"\n",
        "    You are an AI assistant in an engaging conversation with a user. The user just asked the following question:\n",
        "    '{input_user}'\n",
        "    Provide a direct and informative answer, focusing on the exact details the user is asking for. Avoid unnecessary elaboration or asking follow-up questions unless essential to the user’s inquiry. Keep the response clear, concise, and to the point. If the topic is complex, briefly summarize the key aspects.\n",
        "    \"\"\"\n",
        "\n",
        "    response = model.generate_content(prompt).text\n",
        "\n",
        "    # # Update conversation history\n",
        "    # conversation_history.append({\n",
        "    #     'user': input_user,\n",
        "    #     'ai': response\n",
        "    # })\n",
        "\n",
        "    return response"
      ],
      "metadata": {
        "id": "t-A8VD2ebHCT"
      },
      "execution_count": null,
      "outputs": []
    },
    {
      "cell_type": "code",
      "source": [
        "input_user = input('Start converation here...')\n",
        "print(voice_assistance(input_user))"
      ],
      "metadata": {
        "colab": {
          "base_uri": "https://localhost:8080/",
          "height": 89
        },
        "id": "owGDyO1NcK-f",
        "outputId": "83d6bf0b-77b7-4227-d366-231d2a4b545c"
      },
      "execution_count": null,
      "outputs": [
        {
          "output_type": "stream",
          "name": "stdout",
          "text": [
            "Start converation here...can you explain machine learning in one line\n",
            "Machine learning is teaching computers to learn from data without explicit programming.\n",
            "\n"
          ]
        }
      ]
    }
  ]
}